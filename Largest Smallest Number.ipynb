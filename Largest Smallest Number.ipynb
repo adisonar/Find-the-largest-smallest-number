{
 "cells": [
  {
   "cell_type": "code",
   "execution_count": null,
   "metadata": {},
   "outputs": [],
   "source": [
    "#Write a program that repeatedly prompts a user for integer numbers until the user enters 'done'.\n",
    "#Once 'done' is entered, print out the largest and smallest of the numbers.\n",
    "#If the user enters anything other than a valid number catch it with a try/except and put out an appropriate message and ignore the number.\n",
    "#Enter 7, 2, bob, 10, and 4 and match the output below.\n",
    "\n",
    "largest = None\n",
    "smallest = None\n",
    "\n",
    "while True:\n",
    "    try:\n",
    "        num = input(\"Enter a number: \")\n",
    "        if num == \"done\":\n",
    "            break\n",
    "        if largest is None:\n",
    "            largest = int(num)\n",
    "        if int(num) > largest:\n",
    "            largest = int(num)\n",
    "        if smallest is None:\n",
    "            smallest = int(num)\n",
    "        if int(num) < smallest:\n",
    "            smallest = int(num)\n",
    "    except:\n",
    "        print (\"Invalid input\")\n",
    "\n",
    "print(\"Maximum is\", largest)\n",
    "print(\"Minimum is\", smallest)"
   ]
  }
 ],
 "metadata": {
  "kernelspec": {
   "display_name": "Python 3",
   "language": "python",
   "name": "python3"
  },
  "language_info": {
   "codemirror_mode": {
    "name": "ipython",
    "version": 3
   },
   "file_extension": ".py",
   "mimetype": "text/x-python",
   "name": "python",
   "nbconvert_exporter": "python",
   "pygments_lexer": "ipython3",
   "version": "3.7.6"
  }
 },
 "nbformat": 4,
 "nbformat_minor": 4
}
